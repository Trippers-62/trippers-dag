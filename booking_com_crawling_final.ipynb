{
 "cells": [
  {
   "cell_type": "code",
   "execution_count": 1,
   "id": "2f4435a3",
   "metadata": {},
   "outputs": [
    {
     "name": "stdout",
     "output_type": "stream",
     "text": [
      "Requirement already satisfied: selenium in c:\\users\\owner\\anaconda3\\lib\\site-packages (4.18.1)\n",
      "Requirement already satisfied: urllib3<3,>=1.26 in c:\\users\\owner\\appdata\\local\\programs\\python\\python311\\lib\\site-packages (from urllib3[socks]<3,>=1.26->selenium) (2.2.1)\n",
      "Requirement already satisfied: trio~=0.17 in c:\\users\\owner\\anaconda3\\lib\\site-packages (from selenium) (0.24.0)\n",
      "Requirement already satisfied: trio-websocket~=0.9 in c:\\users\\owner\\anaconda3\\lib\\site-packages (from selenium) (0.11.1)\n",
      "Requirement already satisfied: certifi>=2021.10.8 in c:\\users\\owner\\appdata\\local\\programs\\python\\python311\\lib\\site-packages (from selenium) (2024.2.2)\n",
      "Requirement already satisfied: typing_extensions>=4.9.0 in c:\\users\\owner\\anaconda3\\lib\\site-packages (from selenium) (4.10.0)\n",
      "Requirement already satisfied: attrs>=20.1.0 in c:\\users\\owner\\anaconda3\\lib\\site-packages (from trio~=0.17->selenium) (22.1.0)\n",
      "Requirement already satisfied: sortedcontainers in c:\\users\\owner\\anaconda3\\lib\\site-packages (from trio~=0.17->selenium) (2.4.0)\n",
      "Requirement already satisfied: idna in c:\\users\\owner\\appdata\\local\\programs\\python\\python311\\lib\\site-packages (from trio~=0.17->selenium) (3.6)\n",
      "Requirement already satisfied: outcome in c:\\users\\owner\\anaconda3\\lib\\site-packages (from trio~=0.17->selenium) (1.3.0.post0)\n",
      "Requirement already satisfied: sniffio>=1.3.0 in c:\\users\\owner\\anaconda3\\lib\\site-packages (from trio~=0.17->selenium) (1.3.1)\n",
      "Requirement already satisfied: cffi>=1.14 in c:\\users\\owner\\anaconda3\\lib\\site-packages (from trio~=0.17->selenium) (1.15.1)\n",
      "Requirement already satisfied: wsproto>=0.14 in c:\\users\\owner\\anaconda3\\lib\\site-packages (from trio-websocket~=0.9->selenium) (1.2.0)\n",
      "Requirement already satisfied: pysocks!=1.5.7,<2.0,>=1.5.6 in c:\\users\\owner\\anaconda3\\lib\\site-packages (from urllib3[socks]<3,>=1.26->selenium) (1.7.1)\n",
      "Requirement already satisfied: pycparser in c:\\users\\owner\\anaconda3\\lib\\site-packages (from cffi>=1.14->trio~=0.17->selenium) (2.21)\n",
      "Requirement already satisfied: h11<1,>=0.9.0 in c:\\users\\owner\\anaconda3\\lib\\site-packages (from wsproto>=0.14->trio-websocket~=0.9->selenium) (0.14.0)\n",
      "Note: you may need to restart the kernel to use updated packages.\n"
     ]
    }
   ],
   "source": [
    "%pip install selenium"
   ]
  },
  {
   "cell_type": "code",
   "execution_count": 2,
   "id": "b747e7ab",
   "metadata": {},
   "outputs": [
    {
     "name": "stdout",
     "output_type": "stream",
     "text": [
      "Requirement already satisfied: webdriver-manager in c:\\users\\owner\\anaconda3\\lib\\site-packages (4.0.1)\n",
      "Requirement already satisfied: requests in c:\\users\\owner\\appdata\\local\\programs\\python\\python311\\lib\\site-packages (from webdriver-manager) (2.31.0)\n",
      "Requirement already satisfied: python-dotenv in c:\\users\\owner\\anaconda3\\lib\\site-packages (from webdriver-manager) (0.21.0)\n",
      "Requirement already satisfied: packaging in c:\\users\\owner\\anaconda3\\lib\\site-packages (from webdriver-manager) (23.1)\n",
      "Requirement already satisfied: charset-normalizer<4,>=2 in c:\\users\\owner\\appdata\\local\\programs\\python\\python311\\lib\\site-packages (from requests->webdriver-manager) (3.3.2)\n",
      "Requirement already satisfied: idna<4,>=2.5 in c:\\users\\owner\\appdata\\local\\programs\\python\\python311\\lib\\site-packages (from requests->webdriver-manager) (3.6)\n",
      "Requirement already satisfied: urllib3<3,>=1.21.1 in c:\\users\\owner\\appdata\\local\\programs\\python\\python311\\lib\\site-packages (from requests->webdriver-manager) (2.2.1)\n",
      "Requirement already satisfied: certifi>=2017.4.17 in c:\\users\\owner\\appdata\\local\\programs\\python\\python311\\lib\\site-packages (from requests->webdriver-manager) (2024.2.2)\n",
      "Note: you may need to restart the kernel to use updated packages.\n"
     ]
    }
   ],
   "source": [
    "%pip install webdriver-manager"
   ]
  },
  {
   "cell_type": "code",
   "execution_count": 3,
   "id": "718c27e7",
   "metadata": {},
   "outputs": [
    {
     "name": "stdout",
     "output_type": "stream",
     "text": [
      "Requirement already satisfied: bs4 in c:\\users\\owner\\anaconda3\\lib\\site-packages (0.0.2)\n",
      "Requirement already satisfied: beautifulsoup4 in c:\\users\\owner\\anaconda3\\lib\\site-packages (from bs4) (4.12.2)\n",
      "Requirement already satisfied: soupsieve>1.2 in c:\\users\\owner\\anaconda3\\lib\\site-packages (from beautifulsoup4->bs4) (2.4)\n",
      "Note: you may need to restart the kernel to use updated packages.\n"
     ]
    }
   ],
   "source": [
    "%pip install bs4"
   ]
  },
  {
   "cell_type": "code",
   "execution_count": 4,
   "id": "f2012009",
   "metadata": {},
   "outputs": [],
   "source": [
    "# Step 0. 필요한 모듈과 라이브러리를 로딩합니다.\n",
    "import sys\n",
    "import os\n",
    "\n",
    "import pandas as pd\n",
    "import numpy as np\n",
    "import requests\n",
    "\n",
    "from bs4 import BeautifulSoup    # html 데이터를 전처리\n",
    "from selenium import webdriver   # 웹 브라우저 자동화\n",
    "from selenium.webdriver.chrome.service import Service\n",
    "from selenium.webdriver.chrome.options import Options\n",
    "from selenium.webdriver.common.by import By\n",
    "from selenium.webdriver.common.keys import Keys\n",
    "from selenium.webdriver.support.ui import WebDriverWait\n",
    "from selenium.webdriver.common.action_chains import ActionChains\n",
    "from selenium.webdriver.support import expected_conditions as EC\n",
    "from selenium.webdriver.common.action_chains import ActionChains\n",
    "from webdriver_manager.chrome import ChromeDriverManager\n",
    "import logging, time    # 서버와 통신할 때 중간중간 시간 지연. 보통은 1초\n",
    "from tqdm import tqdm_notebook   # for문 돌릴 때 진행상황을 %게이지로 알려준다.\n",
    "from datetime import datetime, timedelta"
   ]
  },
  {
   "cell_type": "code",
   "execution_count": 5,
   "id": "7128d50a",
   "metadata": {},
   "outputs": [
    {
     "name": "stdout",
     "output_type": "stream",
     "text": [
      "2024-03-04\n"
     ]
    }
   ],
   "source": [
    "num = 4\n",
    "now = (datetime.now() + timedelta(days=num)).strftime(\"%Y-%m-%d\")\n",
    "print(now)                                                 "
   ]
  },
  {
   "cell_type": "code",
   "execution_count": 7,
   "id": "b185f157",
   "metadata": {},
   "outputs": [],
   "source": [
    "def set_driver_and_soup(crawling_page_url, driver):\n",
    "    #headers={\\\"User-Agent\\\":\\\"Mozilla/5.0 (X11; Linux x86_64) AppleWebKit/537.36 (KHTML, like Gecko) Chrome/102.0.5042.108 Safari/537.36\\\"}\n",
    "    driver.get(crawling_page_url)\n",
    "    driver.implicitly_wait(60)\n",
    "    time.sleep(0.5)  # delay time 설정\n",
    "    logging.info(\"Main page crawling start. {}\".format(crawling_page_url))\n",
    "    return BeautifulSoup(driver.page_source, \"html.parser\")"
   ]
  },
  {
   "cell_type": "code",
   "execution_count": 19,
   "id": "3628a182",
   "metadata": {},
   "outputs": [
    {
     "ename": "AttributeError",
     "evalue": "'NoneType' object has no attribute 'text'",
     "output_type": "error",
     "traceback": [
      "\u001b[1;31m---------------------------------------------------------------------------\u001b[0m",
      "\u001b[1;31mAttributeError\u001b[0m                            Traceback (most recent call last)",
      "Cell \u001b[1;32mIn[19], line 35\u001b[0m\n\u001b[0;32m     27\u001b[0m     \u001b[38;5;66;03m#WebDriverWait(driver, 20).until(EC.visibility_of_element_located((By.CSS_SELECTOR,'div.abcc616ec7.cc1b961f14.c180176d40.f11eccb5e8.ff74db973c'))).click()\u001b[39;00m\n\u001b[0;32m     29\u001b[0m     \u001b[38;5;28;01mfor\u001b[39;00m el \u001b[38;5;129;01min\u001b[39;00m soup\u001b[38;5;241m.\u001b[39mfind_all(\u001b[38;5;124m\"\u001b[39m\u001b[38;5;124mdiv\u001b[39m\u001b[38;5;124m\"\u001b[39m, {\u001b[38;5;124m\"\u001b[39m\u001b[38;5;124mdata-testid\u001b[39m\u001b[38;5;124m\"\u001b[39m: \u001b[38;5;124m\"\u001b[39m\u001b[38;5;124mproperty-card\u001b[39m\u001b[38;5;124m\"\u001b[39m}):\n\u001b[0;32m     30\u001b[0m         hotel_results\u001b[38;5;241m.\u001b[39mappend({\n\u001b[0;32m     31\u001b[0m             \u001b[38;5;124m\"\u001b[39m\u001b[38;5;124mname\u001b[39m\u001b[38;5;124m\"\u001b[39m: el\u001b[38;5;241m.\u001b[39mfind(\u001b[38;5;124m\"\u001b[39m\u001b[38;5;124mdiv\u001b[39m\u001b[38;5;124m\"\u001b[39m, {\u001b[38;5;124m\"\u001b[39m\u001b[38;5;124mdata-testid\u001b[39m\u001b[38;5;124m\"\u001b[39m: \u001b[38;5;124m\"\u001b[39m\u001b[38;5;124mtitle\u001b[39m\u001b[38;5;124m\"\u001b[39m})\u001b[38;5;241m.\u001b[39mtext\u001b[38;5;241m.\u001b[39mstrip(),\n\u001b[0;32m     32\u001b[0m             \u001b[38;5;124m\"\u001b[39m\u001b[38;5;124mlink\u001b[39m\u001b[38;5;124m\"\u001b[39m: el\u001b[38;5;241m.\u001b[39mfind(\u001b[38;5;124m\"\u001b[39m\u001b[38;5;124ma\u001b[39m\u001b[38;5;124m\"\u001b[39m, {\u001b[38;5;124m\"\u001b[39m\u001b[38;5;124mdata-testid\u001b[39m\u001b[38;5;124m\"\u001b[39m: \u001b[38;5;124m\"\u001b[39m\u001b[38;5;124mtitle-link\u001b[39m\u001b[38;5;124m\"\u001b[39m})[\u001b[38;5;124m\"\u001b[39m\u001b[38;5;124mhref\u001b[39m\u001b[38;5;124m\"\u001b[39m],\n\u001b[0;32m     33\u001b[0m             \u001b[38;5;124m\"\u001b[39m\u001b[38;5;124mlocation\u001b[39m\u001b[38;5;124m\"\u001b[39m: el\u001b[38;5;241m.\u001b[39mfind(\u001b[38;5;124m\"\u001b[39m\u001b[38;5;124mspan\u001b[39m\u001b[38;5;124m\"\u001b[39m, {\u001b[38;5;124m\"\u001b[39m\u001b[38;5;124mdata-testid\u001b[39m\u001b[38;5;124m\"\u001b[39m: \u001b[38;5;124m\"\u001b[39m\u001b[38;5;124maddress\u001b[39m\u001b[38;5;124m\"\u001b[39m})\u001b[38;5;241m.\u001b[39mtext\u001b[38;5;241m.\u001b[39mstrip(),\n\u001b[0;32m     34\u001b[0m             \u001b[38;5;124m\"\u001b[39m\u001b[38;5;124mpricing\u001b[39m\u001b[38;5;124m\"\u001b[39m: el\u001b[38;5;241m.\u001b[39mfind(\u001b[38;5;124m\"\u001b[39m\u001b[38;5;124mspan\u001b[39m\u001b[38;5;124m\"\u001b[39m, {\u001b[38;5;124m\"\u001b[39m\u001b[38;5;124mdata-testid\u001b[39m\u001b[38;5;124m\"\u001b[39m: \u001b[38;5;124m\"\u001b[39m\u001b[38;5;124mprice-and-discounted-price\u001b[39m\u001b[38;5;124m\"\u001b[39m})\u001b[38;5;241m.\u001b[39mtext\u001b[38;5;241m.\u001b[39mstrip(),\n\u001b[1;32m---> 35\u001b[0m             \u001b[38;5;124m\"\u001b[39m\u001b[38;5;124mrating\u001b[39m\u001b[38;5;124m\"\u001b[39m: el\u001b[38;5;241m.\u001b[39mfind(class_\u001b[38;5;241m=\u001b[39m\u001b[38;5;124m\"\u001b[39m\u001b[38;5;124ma3b8729ab1.d86cee9b25\u001b[39m\u001b[38;5;124m\"\u001b[39m)\u001b[38;5;241m.\u001b[39mtext\u001b[38;5;241m.\u001b[39mstrip(),\n\u001b[0;32m     36\u001b[0m             \u001b[38;5;124m\"\u001b[39m\u001b[38;5;124mreview_count\u001b[39m\u001b[38;5;124m\"\u001b[39m: el\u001b[38;5;241m.\u001b[39mfind(class_\u001b[38;5;241m=\u001b[39m\u001b[38;5;124m\"\u001b[39m\u001b[38;5;124mabf093bdfe.f45d8e4c32.d935416c47\u001b[39m\u001b[38;5;124m\"\u001b[39m)\u001b[38;5;241m.\u001b[39mtext\u001b[38;5;241m.\u001b[39mstrip(),\n\u001b[0;32m     37\u001b[0m             \u001b[38;5;124m\"\u001b[39m\u001b[38;5;124mthumbnail\u001b[39m\u001b[38;5;124m\"\u001b[39m: el\u001b[38;5;241m.\u001b[39mfind(\u001b[38;5;124m\"\u001b[39m\u001b[38;5;124mimg\u001b[39m\u001b[38;5;124m\"\u001b[39m, {\u001b[38;5;124m\"\u001b[39m\u001b[38;5;124mdata-testid\u001b[39m\u001b[38;5;124m\"\u001b[39m: \u001b[38;5;124m\"\u001b[39m\u001b[38;5;124mimage\u001b[39m\u001b[38;5;124m\"\u001b[39m})[\u001b[38;5;124m'\u001b[39m\u001b[38;5;124msrc\u001b[39m\u001b[38;5;124m'\u001b[39m],\n\u001b[0;32m     38\u001b[0m             \u001b[38;5;124m\"\u001b[39m\u001b[38;5;124mroom_unit\u001b[39m\u001b[38;5;124m\"\u001b[39m : el\u001b[38;5;241m.\u001b[39mfind(\u001b[38;5;124m\"\u001b[39m\u001b[38;5;124mdiv\u001b[39m\u001b[38;5;124m\"\u001b[39m, {\u001b[38;5;124m\"\u001b[39m\u001b[38;5;124mdata-testid\u001b[39m\u001b[38;5;124m\"\u001b[39m: \u001b[38;5;124m\"\u001b[39m\u001b[38;5;124mrecommended-units\u001b[39m\u001b[38;5;124m\"\u001b[39m})\u001b[38;5;241m.\u001b[39mfind(\u001b[38;5;124m\"\u001b[39m\u001b[38;5;124mh4\u001b[39m\u001b[38;5;124m\"\u001b[39m)\u001b[38;5;241m.\u001b[39mtext\u001b[38;5;241m.\u001b[39mstrip(),\n\u001b[0;32m     39\u001b[0m             \u001b[38;5;124m\"\u001b[39m\u001b[38;5;124mrecommended_units\u001b[39m\u001b[38;5;124m\"\u001b[39m : el\u001b[38;5;241m.\u001b[39mfind(\u001b[38;5;124m\"\u001b[39m\u001b[38;5;124mdiv\u001b[39m\u001b[38;5;124m\"\u001b[39m, {\u001b[38;5;124m\"\u001b[39m\u001b[38;5;124mdata-testid\u001b[39m\u001b[38;5;124m\"\u001b[39m: \u001b[38;5;124m\"\u001b[39m\u001b[38;5;124mrecommended-units\u001b[39m\u001b[38;5;124m\"\u001b[39m})\u001b[38;5;241m.\u001b[39mfind(\u001b[38;5;124m\"\u001b[39m\u001b[38;5;124mul\u001b[39m\u001b[38;5;124m\"\u001b[39m)\u001b[38;5;241m.\u001b[39mtext\u001b[38;5;241m.\u001b[39mstrip(),\n\u001b[0;32m     40\u001b[0m         })\n\u001b[0;32m     41\u001b[0m     time\u001b[38;5;241m.\u001b[39msleep(\u001b[38;5;241m1\u001b[39m)\n\u001b[0;32m     42\u001b[0m \u001b[38;5;66;03m#driver.quit()\u001b[39;00m\n",
      "\u001b[1;31mAttributeError\u001b[0m: 'NoneType' object has no attribute 'text'"
     ]
    }
   ],
   "source": [
    "citys = [\n",
    "    \"도쿄\",\n",
    "    \"오사카\",\n",
    "    \"후쿠오카\",\n",
    "    \"나고야\",\n",
    "    \"오키나와\",\n",
    "    \"교토\",\n",
    "    \"삿포로\",\n",
    "    \"나하\"\n",
    "]\n",
    "\n",
    "offsets = [0, 25]\n",
    "hotel_results = []\n",
    "# Step 1. 크롬 웹브라우저 실행\n",
    "chrome_options = Options()\n",
    "#chrome_options.add_argument(\"--headless\")\n",
    "#chrome_options.add_argument(\"--disable-gpu\")\n",
    "driver = webdriver.Chrome(service=Service(r\"C:\\\\Users\\\\owner\\\\chromedriver-win64\\\\chromedriver-win64\\\\chromedriver.exe\"), options=chrome_options)\n",
    "now = datetime.now()\n",
    "\n",
    "for i in range(30, 31):#(30, 41)\n",
    "    for delta in range(1, 2):#(1, 11)\n",
    "        checkin = (now + timedelta(days=i)).strftime(\"%Y-%m-%d\")\n",
    "        checkout = (now + timedelta(days=(i + delta))).strftime(\"%Y-%m-%d\")\n",
    "        url = \"https://www.booking.com/searchresults.ko.html?label=ko-kr-booking-desktop-fDL93Zuo5ymosKSjAtXB9gS652828999093%3Apl%3Ata%3Ap1%3Ap2%3Aac%3Aap%3Aneg%3Afi%3Atikwd-324456682700%3Alp1009871%3Ali%3Adec%3Adm&aid=2311236&ss=%EC%98%A4%EC%82%AC%EC%B9%B4&ssne=%EC%98%A4%EC%82%AC%EC%B9%B4&ssne_untouched=%EC%98%A4%EC%82%AC%EC%B9%B4&lang=ko&sb=1&src_elem=sb&dest_id=-240905&dest_type=city&checkin={}&checkout={}&group_adults=2&no_rooms=1&group_children=0&order=review_score_and_price&offset=0\".format(checkin, checkout)\n",
    "        soup = set_driver_and_soup(url, driver)\n",
    "        #WebDriverWait(driver, 20).until(EC.visibility_of_element_located((By.CSS_SELECTOR,'div.abcc616ec7.cc1b961f14.c180176d40.f11eccb5e8.ff74db973c'))).click()\n",
    "        \n",
    "        for el in soup.find_all(\"div\", {\"data-testid\": \"property-card\"}):\n",
    "            hotel_results.append({\n",
    "                \"name\": el.find(\"div\", {\"data-testid\": \"title\"}).text.strip(),\n",
    "                \"link\": el.find(\"a\", {\"data-testid\": \"title-link\"})[\"href\"],\n",
    "                \"location\": el.find(\"span\", {\"data-testid\": \"address\"}).text.strip(),\n",
    "                \"pricing\": el.find(\"span\", {\"data-testid\": \"price-and-discounted-price\"}).text.strip(),\n",
    "                \"rating\": el.find(class_=\"a3b8729ab1.d86cee9b25\").text.strip(),\n",
    "                \"review_count\": el.find(class_=\"abf093bdfe.f45d8e4c32.d935416c47\").text.strip(),\n",
    "                \"thumbnail\": el.find(\"img\", {\"data-testid\": \"image\"})['src'],\n",
    "                \"room_unit\" : el.find(\"div\", {\"data-testid\": \"recommended-units\"}).find(\"h4\").text.strip(),\n",
    "                \"recommended_units\" : el.find(\"div\", {\"data-testid\": \"recommended-units\"}).find(\"ul\").text.strip(),\n",
    "            })\n",
    "        time.sleep(1)\n",
    "    #driver.quit()\n",
    "        \n",
    "print(len(hotel_results))\n",
    "print(hotel_results)\n",
    "        "
   ]
  },
  {
   "cell_type": "code",
   "execution_count": 18,
   "id": "bd250f32",
   "metadata": {},
   "outputs": [
    {
     "data": {
      "text/plain": [
       "[{'rating': '8.6우수함', 'review_count': '127개'},\n",
       " {'rating': '9.1최고', 'review_count': '285개'},\n",
       " {'rating': '8.4매우', 'review_count': '좋음'},\n",
       " {'rating': '8.6우수함', 'review_count': '1,581개'},\n",
       " {'rating': '8.8우수함', 'review_count': '2,623개'},\n",
       " {'rating': '8.5매우', 'review_count': '좋음'},\n",
       " {'rating': '8.6우수함', 'review_count': '86개'},\n",
       " {'rating': '8.4매우', 'review_count': '좋음'},\n",
       " {'rating': '8.5매우', 'review_count': '좋음'},\n",
       " {'rating': '8.7우수함', 'review_count': '332개'},\n",
       " {'rating': '8.0매우', 'review_count': '좋음'},\n",
       " {'rating': '8.0매우', 'review_count': '좋음'},\n",
       " {'rating': '7.8좋음', 'review_count': '776개'},\n",
       " {'rating': '8.1매우', 'review_count': '좋음'},\n",
       " {'rating': '8.9우수함', 'review_count': '2,693개'},\n",
       " {'rating': '8.9우수함', 'review_count': '370개'},\n",
       " {'rating': '8.1매우', 'review_count': '좋음'},\n",
       " {'rating': '8.2매우', 'review_count': '좋음'},\n",
       " {'rating': '8.3매우', 'review_count': '좋음'},\n",
       " {'rating': '8.6우수함', 'review_count': '455개'},\n",
       " {'rating': '8.8우수함', 'review_count': '209개'},\n",
       " {'rating': '8.3매우', 'review_count': '좋음'},\n",
       " {'rating': '8.5매우', 'review_count': '좋음'},\n",
       " {'rating': '7.9좋음', 'review_count': '44개'},\n",
       " {'rating': '8.5매우', 'review_count': '좋음'},\n",
       " {'rating': '8.2매우', 'review_count': '좋음'}]"
      ]
     },
     "execution_count": 18,
     "metadata": {},
     "output_type": "execute_result"
    }
   ],
   "source": [
    "chrome_options = Options()\n",
    "#chrome_options.add_argument(\"--headless\")\n",
    "#chrome_options.add_argument(\"--disable-gpu\")\n",
    "driver = webdriver.Chrome(service=Service(executable_path=ChromeDriverManager().install()), options=chrome_options)\n",
    "url = \"https://www.booking.com/searchresults.ko.html?label=gen173nr-1FCAEoggI46AdIM1gEaH2IAQGYARe4ARfIAQzYAQHoAQH4AQuIAgGoAgO4AqPI864GwAIB0gIkMjAwYTMxODYtODRmYi00NTk1LWI4YWMtNGIxYTM5MzUzZjgz2AIG4AIB&sid=f706defc80ec4d16c84a17a873d8e026&aid=304142&ss=%EC%98%A4%EC%82%AC%EC%B9%B4&ssne=%EC%98%A4%EC%82%AC%EC%B9%B4&ssne_untouched=%EC%98%A4%EC%82%AC%EC%B9%B4&lang=ko&sb=1&src_elem=sb&src=searchresults&dest_id=-240905&dest_type=city&checkin=2024-03-01&checkout=2024-03-04&group_adults=2&no_rooms=1&logged_out=1&offset=0\"\n",
    "soup = set_driver_and_soup(url, driver)\n",
    "hotel_results = []\n",
    "for el in soup.find_all(\"div\", {\"data-testid\": \"property-card\"}):\n",
    "    hotel_results.append({\n",
    "        \"rating\": el.find(\"div\", {\"data-testid\": \"review-score\"}).text.strip().split(\" \")[0],\n",
    "        \"review_count\": el.find(\"div\", {\"data-testid\": \"review-score\"}).text.strip().split(\" \")[1],\n",
    "    })\n",
    "\n",
    "hotel_results"
   ]
  },
  {
   "cell_type": "code",
   "execution_count": null,
   "id": "cc548afb",
   "metadata": {},
   "outputs": [],
   "source": []
  }
 ],
 "metadata": {
  "kernelspec": {
   "display_name": "Python 3 (ipykernel)",
   "language": "python",
   "name": "python3"
  },
  "language_info": {
   "codemirror_mode": {
    "name": "ipython",
    "version": 3
   },
   "file_extension": ".py",
   "mimetype": "text/x-python",
   "name": "python",
   "nbconvert_exporter": "python",
   "pygments_lexer": "ipython3",
   "version": "3.11.5"
  }
 },
 "nbformat": 4,
 "nbformat_minor": 5
}
